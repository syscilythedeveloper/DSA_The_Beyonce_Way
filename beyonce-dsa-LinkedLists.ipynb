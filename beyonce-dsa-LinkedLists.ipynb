{
  "cells": [
    {
      "cell_type": "markdown",
      "id": "44052825-5d6e-48e5-a6d0-706ff069a97f",
      "metadata": {
        "editable": false,
        "slideshow": {
          "slide_type": ""
        },
        "tags": []
      },
      "source": [
        "# Linked Lists: Cowboy Carter\n",
        "Before we dive into linked lists, let’s make sure we understand classes – the foundation of these data structures. Here’s how I’d create a song class (because everything is better with music, y’all).\n"
      ]
    },
    {
      "cell_type": "markdown",
      "id": "f15786c8-4038-44af-95be-92113c2fb5b0",
      "metadata": {},
      "source": [
        "\n",
        "## Define a Song class\n",
        "   - Every song needs a title.\n",
        "   - Think of each song as a single track in an album. Right now, they’re just singles – not linked. Soon, we’ll connect them like my perfect album tracklists."
      ]
    },
    {
      "cell_type": "code",
      "execution_count": 1,
      "id": "22884223-d6ca-410b-8e2a-462ce93d459c",
      "metadata": {
        "trusted": true
      },
      "outputs": [],
      "source": [
        "class Song:\n",
        "    def __init__(self, song_title):\n",
        "        self.song_title = song_title \n",
        "# __str just defines how the Song object is represented as a string when you print it. So after a Song object is created, printing it returns the song title\n",
        "    def __str__(self): \n",
        "        return str(self.song_title)"
      ]
    },
    {
      "cell_type": "markdown",
      "id": "0da0c792-a2a6-4023-9fcd-5abbdab66755",
      "metadata": {},
      "source": [
        "This class just represents a song in isolation. Remember that song I had with Usher? "
      ]
    },
    {
      "cell_type": "code",
      "execution_count": 2,
      "id": "eeeb2f01-0241-44d4-943b-42ac184cb3bc",
      "metadata": {
        "editable": true,
        "slideshow": {
          "slide_type": ""
        },
        "tags": [],
        "trusted": true
      },
      "outputs": [
        {
          "name": "stdout",
          "output_type": "stream",
          "text": [
            "Love In This Club Part II\n",
            "Beautiful Liar\n",
            "Telephone\n"
          ]
        }
      ],
      "source": [
        "usher_collab = Song(\"Love In This Club Part II\")\n",
        "print(usher_collab)\n",
        "\n",
        "#other examples\n",
        "shakira_collab = Song(\"Beautiful Liar\") \n",
        "lady_gaga_collab = Song(\"Telephone\")\n",
        "print(shakira_collab)\n",
        "print(lady_gaga_collab)"
      ]
    },
    {
      "cell_type": "markdown",
      "id": "81fa5dcb-35bf-41de-83c6-3160e508dca5",
      "metadata": {},
      "source": [
        "***\n",
        "<div>🎤 Quick mic check, y’all: Make sure you really understand classes before we move on. Don’t be afraid to pause and review – I spent real time singing in the mirror before I started selling out arenas. Linked lists will stay fuzzy without that solid understanding.</div>\n",
        "\n",
        "<div>Now that you’ve got classes down, let’s talk about how we’d use the <b>Song</b> class in a linked list. 🐝 In my work, I’m intentional about every. single. detail. I don’t just make songs – I create structured bodies of pure artistry. So now, we’re gonna redefine the Song class to reflect that vision.</div>\n",
        "\n",
        "## 🐝 (re)Define the Song class\n",
        "- Every song still needs a title, y’all.  \n",
        "- But I’m thinking about the entire body of work, so I’m also keeping in mind what song comes after it. That’s why I’m initializing each song with a `next` parameter along with the title.  \n",
        "- I may not know what comes next when I write a single, so I keep `next` as None until I build the full tracklist.\n"
      ]
    },
    {
      "cell_type": "code",
      "execution_count": 3,
      "id": "06473de7-85fd-4469-b8d2-159c25812012",
      "metadata": {
        "trusted": true
      },
      "outputs": [],
      "source": [
        "class Song:\n",
        "    def __init__(self, song_title, next=None):\n",
        "        self.song_title = song_title\n",
        "        self.next= next \n",
        "        \n",
        "    def __str__(self): \n",
        "        return str(self.song_title)"
      ]
    },
    {
      "cell_type": "markdown",
      "id": "c8e04b3f-02b3-4b53-b03b-c9f0aba206a1",
      "metadata": {},
      "source": [
        "***"
      ]
    },
    {
      "cell_type": "markdown",
      "id": "27ac9fc3-38da-4962-91e2-81b37658a423",
      "metadata": {},
      "source": [
        "🎶To visualize how these nodes connect, think about my 2013 SuperBowl Performance. I started with <em>Love on Top</em>, then <em>Crazy in Love</em>, then <em>End of Time</em>. That’s exactly how we link songs – one after the other,"
      ]
    },
    {
      "cell_type": "code",
      "execution_count": 4,
      "id": "86f2b482-f3c9-4b97-b82e-ab3240a7326c",
      "metadata": {
        "trusted": true
      },
      "outputs": [
        {
          "name": "stdout",
          "output_type": "stream",
          "text": [
            "First song is: Love on Top\n",
            "Second song is: Crazy in Love\n",
            "Third song is: End of Time, which could also be accessed with first_song.next.next. See -> End of Time\n"
          ]
        }
      ],
      "source": [
        "first_song = Song(\"Love on Top\") \n",
        "second_song = Song(\"Crazy in Love\")\n",
        "third_song = Song(\"End of Time\") \n",
        "first_song.next = second_song\n",
        "second_song.next = third_song \n",
        "print(f\"First song is: {first_song}\")\n",
        "print(f\"Second song is: {first_song.next}\")\n",
        "print(f\"Third song is: {second_song.next}, which could also be accessed with first_song.next.next. See -> {first_song.next.next}\")\n"
      ]
    },
    {
      "cell_type": "markdown",
      "id": "9bb9e694",
      "metadata": {},
      "source": [
        "See how each song points to the next? That’s the ✨<em>flawless </em> ✨ flow I want you to keep in mind with linked lists - just like all my setlists: hit after hit💃🏽💃🏽💃🏽"
      ]
    },
    {
      "cell_type": "markdown",
      "id": "8f3c6ccc-198a-4547-b3b9-2d2811e3345f",
      "metadata": {},
      "source": [
        "***\n",
        "## 🎶  Create an album\n",
        "- 🐝 Let’s define the Album class to visualize a linked list and its' nodes. (songs in my album. )\n",
        "- Every album starts with a first song – that’s your head node.\n",
        "- When the album is first created, that opening track is the only song until others are added.\n",
        "- Right now, we’ll focus on two main methods: 1. Adding a song, and 2. Playing the album.\n",
        "\n",
        "### 💿  Adding a song to the album\n",
        "- When I want to add a new song to an album, first I create it – just like writing in the studio. new_song is a fresh instance of our Song class.\n",
        "- Then, I link it up by setting the .next attribute of the current_song to this new_song.\n",
        "- And finally, new_song becomes the new current_song – This ain’t Texas – we ain’t holding on to current_song.\n",
        "\n",
        "### 🎧 Playing the album\n",
        "- I want to keep track of the songs in the album. So I use a variable count to number them as I play through – starting at 0 and adding 1 for each song.\n",
        "- track_list is how I keep track of each song’s number and title as I move through the album, song by song.\n",
        "- Until I get to to the end of the album (current_song != None), we’ll:\n",
        "\n",
        "-- 1. Increase the count by 1.\n",
        "-- 2. Add the song number and title to the track_list.\n",
        "-- 3. Move to the next song with current_song = current_song.next.\n",
        "When we reach the end of the album, we show off the whole tracklist – numbered and titled\n",
        "\n",
        " "
      ]
    },
    {
      "cell_type": "code",
      "execution_count": 5,
      "id": "b6527085-983f-4720-b046-b2c94d66a6f2",
      "metadata": {
        "trusted": true
      },
      "outputs": [],
      "source": [
        "class Album: \n",
        "    def __init__(self, album_start):\n",
        "        first_song = Song(album_start)\n",
        "        self.head = first_song\n",
        "        self.current_song = self.head \n",
        "\n",
        "    def add_song(self, song): \n",
        "        new_song = Song(song) #create a new Song node \n",
        "        self.current_song.next = new_song \n",
        "        self.current_song = new_song\n",
        "        return \n",
        "\n",
        "    def play_album(self):\n",
        "        count = 0\n",
        "        track_list =[]\n",
        "        current_song = self.head\n",
        "        while current_song != None:\n",
        "            count+=1\n",
        "            track_list.append(f\"{count}: {current_song.song_title}\")\n",
        "            current_song = current_song.next\n",
        "         \n",
        "        display = \"\\n\".join(track_list)\n",
        "        print(display)"
      ]
    },
    {
      "cell_type": "markdown",
      "id": "8a58f618-46a4-4c02-aeee-216ec793d638",
      "metadata": {},
      "source": [
        "***\n",
        "Let's create an Album instance using Cowboy Carter, with the first song, <em> AMERIICAN REQUIEM </em>. Then we'll play the album as it exists so far. "
      ]
    },
    {
      "cell_type": "code",
      "execution_count": 6,
      "id": "953d785a-496d-4efd-b9ce-0d9355e489d8",
      "metadata": {
        "trusted": true
      },
      "outputs": [
        {
          "name": "stdout",
          "output_type": "stream",
          "text": [
            "1: AMERIICAN REQUIEM\n"
          ]
        }
      ],
      "source": [
        "cowboy_carter = Album(\"AMERIICAN REQUIEM\")\n",
        "cowboy_carter.play_album()"
      ]
    },
    {
      "cell_type": "markdown",
      "id": "9a28b097-c982-4448-935e-5e491efe2e07",
      "metadata": {},
      "source": [
        "🎶 Right now, Cowboy Carter has only one song, but let’s keep adding to this masterpiece track by track.\n",
        "\n",
        "Now we'll add the rest of the songs and play this album the way it was meant to be heard – start to finish, no skips. 🐝"
      ]
    },
    {
      "cell_type": "code",
      "execution_count": 7,
      "id": "a203a971-72ae-4403-a228-af1fd36f9b0b",
      "metadata": {
        "trusted": true
      },
      "outputs": [
        {
          "name": "stdout",
          "output_type": "stream",
          "text": [
            "1: AMERIICAN REQUIEM\n",
            "2: BLACKBIIRD\n",
            "3: 16 CARRIAGES\n",
            "4: PROTECTOR\n",
            "5: MY_ROSE\n",
            "6: SMOKE HOUR * WILLIE NELSON\n",
            "7: TEXAS HOLD 'EM\n",
            "8: BODY GUARD\n",
            "9: DOLLY P\n",
            "10: JOLENE\n",
            "11: DAUGHTER\n",
            "12: SPAGHETTI\n",
            "13: ALLIGATOR TEARS\n",
            "14: SMOKE HOUR II\n",
            "15: JUST FOR FUN\n",
            "16: II MOST WANTED\n",
            "17: LEVII'S JEANS\n",
            "18: FLAMENCO\n",
            "19: LINDA MARTELL SHOW\n",
            "20: YA YA\n",
            "21: OH LOUISIANA\n",
            "22: DESERT EAGLE\n",
            "23: RIIVERDANCE\n",
            "24: II HANDS II HEAVEN\n",
            "25: TYRANT\n",
            "26: SWEET * HONEY * BUCKIN\n",
            "27: AMEN\n"
          ]
        }
      ],
      "source": [
        "cowboy_carter.add_song(\"BLACKBIIRD\")\n",
        "cowboy_carter.add_song(\"16 CARRIAGES\")\n",
        "cowboy_carter.add_song(\"PROTECTOR\")\n",
        "cowboy_carter.add_song(\"MY_ROSE\")\n",
        "cowboy_carter.add_song(\"SMOKE HOUR * WILLIE NELSON\")\n",
        "cowboy_carter.add_song(\"TEXAS HOLD 'EM\")\n",
        "cowboy_carter.add_song(\"BODY GUARD\")\n",
        "cowboy_carter.add_song(\"DOLLY P\")\n",
        "cowboy_carter.add_song(\"JOLENE\")\n",
        "cowboy_carter.add_song(\"DAUGHTER\")\n",
        "cowboy_carter.add_song(\"SPAGHETTI\")\n",
        "cowboy_carter.add_song(\"ALLIGATOR TEARS\")\n",
        "cowboy_carter.add_song(\"SMOKE HOUR II\")\n",
        "cowboy_carter.add_song(\"JUST FOR FUN\")\n",
        "cowboy_carter.add_song(\"II MOST WANTED\")\n",
        "cowboy_carter.add_song(\"LEVII'S JEANS\")\n",
        "cowboy_carter.add_song(\"FLAMENCO\")\n",
        "cowboy_carter.add_song(\"LINDA MARTELL SHOW\")\n",
        "cowboy_carter.add_song(\"YA YA\")\n",
        "cowboy_carter.add_song(\"OH LOUISIANA\")\n",
        "cowboy_carter.add_song(\"DESERT EAGLE\")\n",
        "cowboy_carter.add_song(\"RIIVERDANCE\")\n",
        "cowboy_carter.add_song(\"II HANDS II HEAVEN\")\n",
        "cowboy_carter.add_song(\"TYRANT\")\n",
        "cowboy_carter.add_song(\"SWEET * HONEY * BUCKIN\")\n",
        "cowboy_carter.add_song(\"AMEN\")\n",
        "cowboy_carter.play_album()\n",
        "\n"
      ]
    },
    {
      "cell_type": "code",
      "execution_count": null,
      "id": "1e5d9d56-82f2-49eb-bac6-9a8a86095d1a",
      "metadata": {
        "trusted": true
      },
      "outputs": [],
      "source": []
    }
  ],
  "metadata": {
    "kernelspec": {
      "display_name": "Python 3",
      "language": "python",
      "name": "python3"
    },
    "language_info": {
      "codemirror_mode": {
        "name": "ipython",
        "version": 3
      },
      "file_extension": ".py",
      "mimetype": "text/x-python",
      "name": "python",
      "nbconvert_exporter": "python",
      "pygments_lexer": "ipython3",
      "version": "3.12.4"
    }
  },
  "nbformat": 4,
  "nbformat_minor": 5
}
